{
 "cells": [
  {
   "cell_type": "code",
   "execution_count": 3,
   "metadata": {},
   "outputs": [],
   "source": [
    "import os\n",
    "os.chdir(r\"F:\\\\Face-Recognition\")"
   ]
  },
  {
   "cell_type": "code",
   "execution_count": 4,
   "metadata": {},
   "outputs": [],
   "source": [
    "import os\n",
    "os.environ['TF_ENABLE_ONEDNN_OPTS'] = '0'\n"
   ]
  },
  {
   "cell_type": "code",
   "execution_count": 5,
   "metadata": {},
   "outputs": [],
   "source": [
    "from tensorflow.keras.layers import Convolution2D, MaxPooling2D, Flatten, Dense, Dropout\n",
    "\n"
   ]
  },
  {
   "cell_type": "code",
   "execution_count": 9,
   "metadata": {},
   "outputs": [],
   "source": [
    "from deepface import DeepFace"
   ]
  },
  {
   "cell_type": "code",
   "execution_count": 10,
   "metadata": {},
   "outputs": [],
   "source": [
    "import tensorflow as tf\n",
    "import os\n",
    "os.environ['TF_CPP_MIN_LOG_LEVEL'] = '2'  # Suppress warnings and errors\n"
   ]
  },
  {
   "cell_type": "code",
   "execution_count": 13,
   "metadata": {},
   "outputs": [
    {
     "name": "stdout",
     "output_type": "stream",
     "text": [
      "24-10-24 12:44:33 - Found 2 newly added image(s), 0 removed image(s), 0 replaced image(s).\n"
     ]
    },
    {
     "name": "stderr",
     "output_type": "stream",
     "text": [
      "Finding representations:   0%|          | 0/2 [00:00<?, ?it/s]"
     ]
    },
    {
     "name": "stdout",
     "output_type": "stream",
     "text": [
      "24-10-24 12:45:00 - vgg_face_weights.h5 will be downloaded...\n"
     ]
    },
    {
     "name": "stderr",
     "output_type": "stream",
     "text": [
      "Downloading...\n",
      "From: https://github.com/serengil/deepface_models/releases/download/v1.0/vgg_face_weights.h5\n",
      "To: C:\\Users\\user\\.deepface\\weights\\vgg_face_weights.h5\n",
      "100%|██████████| 580M/580M [01:36<00:00, 6.01MB/s]\n",
      "Finding representations: 100%|██████████| 2/2 [03:21<00:00, 100.91s/it]\n"
     ]
    },
    {
     "name": "stdout",
     "output_type": "stream",
     "text": [
      "24-10-24 12:47:55 - There are now 2 representations in ds_model_vggface_detector_opencv_aligned_normalization_base_expand_0.pkl\n",
      "24-10-24 12:47:56 - Searching F:\\Face-Recognition\\face\\input.jpeg in 2 length datastore\n",
      "24-10-24 12:47:59 - find function duration 205.8443465232849 seconds\n",
      "[                                    identity  \\\n",
      "0        F:\\Face-Recognition\\face\\input.jpeg   \n",
      "1  F:\\Face-Recognition\\face\\must_smiling.jpg   \n",
      "\n",
      "                                       hash  target_x  target_y  target_w  \\\n",
      "0  f19fb7278fe859b95d2d726eb6b96741f594f9c6       175       170       262   \n",
      "1  cb56d959d79eaec0f880847c8c088e0281a495d3       416       114       382   \n",
      "\n",
      "   target_h  source_x  source_y  source_w  source_h  threshold  distance  \n",
      "0       262       175       170       262       262       0.68  0.000000  \n",
      "1       382       175       170       262       262       0.68  0.575267  ]\n"
     ]
    }
   ],
   "source": [
    "result = DeepFace.find(img_path=r\"F:\\Face-Recognition\\face\\input.jpeg\", db_path=r\"F:\\Face-Recognition\\face\")\n",
    "print(result)\n"
   ]
  },
  {
   "cell_type": "code",
   "execution_count": 15,
   "metadata": {},
   "outputs": [],
   "source": [
    "import cv2\n",
    "video = cv2.VideoCapture('video.mp4')\n",
    "while video.isOpened():\n",
    "    ret, frame = video.read()\n",
    "    if not ret:\n",
    "        break\n",
    "    # Analyze face for emotion, age, gender, and race\n",
    "    result = DeepFace.analyze(frame, actions=['emotion', 'age', 'gender', 'race'])\n",
    "    print(result)\n",
    "\n",
    "video.release()"
   ]
  },
  {
   "cell_type": "code",
   "execution_count": 20,
   "metadata": {},
   "outputs": [
    {
     "name": "stdout",
     "output_type": "stream",
     "text": [
      "* Running on local URL:  http://127.0.0.1:7861\n",
      "\n",
      "To create a public link, set `share=True` in `launch()`.\n"
     ]
    },
    {
     "data": {
      "text/html": [
       "<div><iframe src=\"http://127.0.0.1:7861/\" width=\"100%\" height=\"500\" allow=\"autoplay; camera; microphone; clipboard-read; clipboard-write;\" frameborder=\"0\" allowfullscreen></iframe></div>"
      ],
      "text/plain": [
       "<IPython.core.display.HTML object>"
      ]
     },
     "metadata": {},
     "output_type": "display_data"
    },
    {
     "data": {
      "text/plain": []
     },
     "execution_count": 20,
     "metadata": {},
     "output_type": "execute_result"
    },
    {
     "name": "stdout",
     "output_type": "stream",
     "text": [
      "Created dataset file at: .gradio\\flagged\\dataset1.csv\n"
     ]
    }
   ],
   "source": [
    "import gradio as gr\n",
    "from deepface import DeepFace\n",
    "\n",
    "def face_verification(img1, img2):\n",
    "    result = DeepFace.verify(img1, img2)\n",
    "    return result[\"verified\"]\n",
    "\n",
    "iface = gr.Interface(fn=face_verification, inputs=[\"image\", \"image\"], outputs=\"text\")\n",
    "iface.launch()"
   ]
  },
  {
   "cell_type": "code",
   "execution_count": 21,
   "metadata": {},
   "outputs": [
    {
     "name": "stdout",
     "output_type": "stream",
     "text": [
      "* Running on local URL:  http://127.0.0.1:7862\n",
      "\n",
      "To create a public link, set `share=True` in `launch()`.\n"
     ]
    },
    {
     "data": {
      "text/html": [
       "<div><iframe src=\"http://127.0.0.1:7862/\" width=\"100%\" height=\"500\" allow=\"autoplay; camera; microphone; clipboard-read; clipboard-write;\" frameborder=\"0\" allowfullscreen></iframe></div>"
      ],
      "text/plain": [
       "<IPython.core.display.HTML object>"
      ]
     },
     "metadata": {},
     "output_type": "display_data"
    },
    {
     "data": {
      "text/plain": []
     },
     "execution_count": 21,
     "metadata": {},
     "output_type": "execute_result"
    },
    {
     "name": "stderr",
     "output_type": "stream",
     "text": [
      "Traceback (most recent call last):\n",
      "  File \"f:\\Face-Recognition\\venv\\Lib\\site-packages\\deepface\\modules\\verification.py\", line 167, in extract_embeddings_and_facial_areas\n",
      "    img_embeddings, img_facial_areas = __extract_faces_and_embeddings(\n",
      "                                       ^^^^^^^^^^^^^^^^^^^^^^^^^^^^^^^\n",
      "  File \"f:\\Face-Recognition\\venv\\Lib\\site-packages\\deepface\\modules\\verification.py\", line 234, in __extract_faces_and_embeddings\n",
      "    img_objs = detection.extract_faces(\n",
      "               ^^^^^^^^^^^^^^^^^^^^^^^^\n",
      "  File \"f:\\Face-Recognition\\venv\\Lib\\site-packages\\deepface\\modules\\detection.py\", line 105, in extract_faces\n",
      "    raise ValueError(\n",
      "ValueError: Face could not be detected in numpy array.Please confirm that the picture is a face photo or consider to set enforce_detection param to False.\n",
      "\n",
      "The above exception was the direct cause of the following exception:\n",
      "\n",
      "Traceback (most recent call last):\n",
      "  File \"f:\\Face-Recognition\\venv\\Lib\\site-packages\\gradio\\queueing.py\", line 624, in process_events\n",
      "    response = await route_utils.call_process_api(\n",
      "               ^^^^^^^^^^^^^^^^^^^^^^^^^^^^^^^^^^^\n",
      "  File \"f:\\Face-Recognition\\venv\\Lib\\site-packages\\gradio\\route_utils.py\", line 323, in call_process_api\n",
      "    output = await app.get_blocks().process_api(\n",
      "             ^^^^^^^^^^^^^^^^^^^^^^^^^^^^^^^^^^^\n",
      "  File \"f:\\Face-Recognition\\venv\\Lib\\site-packages\\gradio\\blocks.py\", line 2018, in process_api\n",
      "    result = await self.call_function(\n",
      "             ^^^^^^^^^^^^^^^^^^^^^^^^^\n",
      "  File \"f:\\Face-Recognition\\venv\\Lib\\site-packages\\gradio\\blocks.py\", line 1567, in call_function\n",
      "    prediction = await anyio.to_thread.run_sync(  # type: ignore\n",
      "                 ^^^^^^^^^^^^^^^^^^^^^^^^^^^^^^^^^^^^^^^^^^^^^^^\n",
      "  File \"f:\\Face-Recognition\\venv\\Lib\\site-packages\\anyio\\to_thread.py\", line 56, in run_sync\n",
      "    return await get_async_backend().run_sync_in_worker_thread(\n",
      "           ^^^^^^^^^^^^^^^^^^^^^^^^^^^^^^^^^^^^^^^^^^^^^^^^^^^^\n",
      "  File \"f:\\Face-Recognition\\venv\\Lib\\site-packages\\anyio\\_backends\\_asyncio.py\", line 2441, in run_sync_in_worker_thread\n",
      "    return await future\n",
      "           ^^^^^^^^^^^^\n",
      "  File \"f:\\Face-Recognition\\venv\\Lib\\site-packages\\anyio\\_backends\\_asyncio.py\", line 943, in run\n",
      "    result = context.run(func, *args)\n",
      "             ^^^^^^^^^^^^^^^^^^^^^^^^\n",
      "  File \"f:\\Face-Recognition\\venv\\Lib\\site-packages\\gradio\\utils.py\", line 846, in wrapper\n",
      "    response = f(*args, **kwargs)\n",
      "               ^^^^^^^^^^^^^^^^^^\n",
      "  File \"C:\\Users\\user\\AppData\\Local\\Temp\\ipykernel_12676\\2583629120.py\", line 5, in face_verification\n",
      "    result = DeepFace.verify(img1, img2)\n",
      "             ^^^^^^^^^^^^^^^^^^^^^^^^^^^\n",
      "  File \"f:\\Face-Recognition\\venv\\Lib\\site-packages\\deepface\\DeepFace.py\", line 150, in verify\n",
      "    return verification.verify(\n",
      "           ^^^^^^^^^^^^^^^^^^^^\n",
      "  File \"f:\\Face-Recognition\\venv\\Lib\\site-packages\\deepface\\modules\\verification.py\", line 181, in verify\n",
      "    img1_embeddings, img1_facial_areas = extract_embeddings_and_facial_areas(img1_path, 1)\n",
      "                                         ^^^^^^^^^^^^^^^^^^^^^^^^^^^^^^^^^^^^^^^^^^^^^^^^^\n",
      "  File \"f:\\Face-Recognition\\venv\\Lib\\site-packages\\deepface\\modules\\verification.py\", line 178, in extract_embeddings_and_facial_areas\n",
      "    raise ValueError(f\"Exception while processing img{index}_path\") from err\n",
      "ValueError: Exception while processing img1_path\n"
     ]
    }
   ],
   "source": [
    "import gradio as gr\n",
    "from deepface import DeepFace\n",
    "\n",
    "def face_verification(img1, img2):\n",
    "    result = DeepFace.verify(img1, img2)\n",
    "    return result[\"verified\"]\n",
    "\n",
    "iface = gr.Interface(fn=face_verification, inputs=[\"image\", \"image\"], outputs=\"text\")\n",
    "iface.launch()"
   ]
  },
  {
   "cell_type": "code",
   "execution_count": null,
   "metadata": {},
   "outputs": [],
   "source": []
  }
 ],
 "metadata": {
  "kernelspec": {
   "display_name": "venv",
   "language": "python",
   "name": "python3"
  },
  "language_info": {
   "codemirror_mode": {
    "name": "ipython",
    "version": 3
   },
   "file_extension": ".py",
   "mimetype": "text/x-python",
   "name": "python",
   "nbconvert_exporter": "python",
   "pygments_lexer": "ipython3",
   "version": "3.11.5"
  }
 },
 "nbformat": 4,
 "nbformat_minor": 2
}
